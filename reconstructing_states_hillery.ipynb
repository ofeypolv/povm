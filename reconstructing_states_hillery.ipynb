{
 "cells": [
  {
   "cell_type": "code",
   "execution_count": 2,
   "metadata": {},
   "outputs": [],
   "source": [
    "import numpy as np\n",
    "import pandas as pd\n",
    "import math as m\n",
    "import sympy as sym\n",
    "import random as rand\n",
    "import matplotlib.pyplot as plt"
   ]
  },
  {
   "cell_type": "code",
   "execution_count": 3,
   "metadata": {},
   "outputs": [],
   "source": [
    "# defininf the states\n",
    "# defininsg coefficeients sybols\n",
    "\n",
    "def Creating_states( coeff = [1/(2**.5),1/(2**.5),1/(2**.5),1/(2**.5)] , Abstract = False):    # coeff list like [a0,a1,b0,b1]\n",
    "    if Abstract == True:\n",
    "        a0 = sym.symbols('a0')\n",
    "        a1 = sym.symbols('a1')\n",
    "        b0 = sym.symbols('b0')\n",
    "        b1 = sym.symbols('b1')\n",
    "    else:\n",
    "        a0 = coeff[0]\n",
    "        a1 = coeff[1]\n",
    "        b0 = coeff[2]\n",
    "        b1 = coeff[3]\n",
    "    psi0 = [a0,a1]      # defining states\n",
    "    psi1 = [b0,b1]\n",
    "    return([psi0,psi1])"
   ]
  },
  {
   "cell_type": "code",
   "execution_count": 4,
   "metadata": {},
   "outputs": [],
   "source": [
    "psi0 = Creating_states(Abstract=False)[0]\n",
    "psi1 = Creating_states(Abstract=False)[1]"
   ]
  },
  {
   "cell_type": "code",
   "execution_count": 5,
   "metadata": {},
   "outputs": [
    {
     "data": {
      "text/plain": [
       "[0.33333333333333337, 0.6666666666666667, 0.33333333333333337]"
      ]
     },
     "execution_count": 5,
     "metadata": {},
     "output_type": "execute_result"
    }
   ],
   "source": [
    "psi0sq = []\n",
    "psi1sq = []\n",
    "[[psi0sq.append(i*j) for i in psi0] for j in psi0]\n",
    "[[psi1sq.append(i*j) for i in psi1] for j in psi1]   # creating list of coeff for squared states (intermeditate step)\n",
    "\n",
    "\n",
    "psi0psi0 = [psi0sq[0], (psi0sq[1]+psi0sq[2]), psi0sq[3]]\n",
    "sum_squares_0 = sum([np.abs(i)**2 for i in psi0psi0] )\n",
    "psi0psi0 = [i/sum_squares_0 for i in psi0psi0]        \n",
    "\n",
    "psi1psi1 = [psi1sq[0], (psi1sq[1]+psi1sq[2]), psi1sq[3]]            # symmetric states in basis (|00>,(|01>+|10>),|11>)\n",
    "sum_squares_1 = sum([np.abs(i)**2 for i in psi1psi1] )\n",
    "psi1psi1 = [i/sum_squares_1 for i in psi1psi1]      # normalized     \n",
    "\n",
    "psi1psi1\n"
   ]
  },
  {
   "cell_type": "code",
   "execution_count": 6,
   "metadata": {},
   "outputs": [],
   "source": [
    "#creating the density matrix rho\n",
    "# rho is 1/2*(|psi0psi0Xpsi0psi0|+|psi1psi1Xpsi1psi1|)\n",
    "# findiing the conjugate vectors \n",
    "vec_psi0psi0 = sym.Matrix(psi0psi0)     # convertying to sympy vectors for easy matrix multiplication\n",
    "vec_psi1psi1 = sym.Matrix(psi1psi1)\n",
    "\n",
    "rho = (1/2)*(vec_psi0psi0*vec_psi0psi0.T  + vec_psi1psi1*vec_psi1psi1.T )       # density matrix with priors 1/2 each."
   ]
  },
  {
   "cell_type": "code",
   "execution_count": 7,
   "metadata": {},
   "outputs": [
    {
     "data": {
      "text/plain": [
       "[0.0185185185185185,\n",
       " 0.0185185185185185,\n",
       " 0.0185185185185185,\n",
       " 0.0185185185185185,\n",
       " 0.0185185185185185,\n",
       " 0.0185185185185185,\n",
       " 0.0185185185185185,\n",
       " 0.0185185185185185,\n",
       " 0.0185185185185185]"
      ]
     },
     "execution_count": 7,
     "metadata": {},
     "output_type": "execute_result"
    }
   ],
   "source": [
    "# creating the SIC POVM matrices\n",
    "w = m.e**((2/3)*m.pi*sym.I)\n",
    "POVM_vec = (1/(2**.5))*(np.array([[0,1,-1],[-1,0,1],[1,-1,0],[0,w,w**2],[-1,0,w**2],[1,-w,0],[0,w**2,-w],[-1,0,w],[1,-w**2,0]]))\n",
    "\n",
    "POVM_elt = [((1/3)*sym.Matrix(POVM_vec[0])*sym.Matrix(POVM_vec[0]).T) for i in range(len(POVM_vec))]\n",
    "\n",
    "prob = [(POVM_elt[i]*rho).trace() for i in range(len(POVM_elt))]\n",
    "\n",
    "prob"
   ]
  }
 ],
 "metadata": {
  "kernelspec": {
   "display_name": "Python 3 (ipykernel)",
   "language": "python",
   "name": "python3"
  },
  "language_info": {
   "codemirror_mode": {
    "name": "ipython",
    "version": 3
   },
   "file_extension": ".py",
   "mimetype": "text/x-python",
   "name": "python",
   "nbconvert_exporter": "python",
   "pygments_lexer": "ipython3",
   "version": "3.11.4"
  }
 },
 "nbformat": 4,
 "nbformat_minor": 2
}
