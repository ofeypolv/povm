{
 "cells": [
  {
   "cell_type": "code",
   "execution_count": 1,
   "metadata": {},
   "outputs": [],
   "source": [
    "import numpy as np\n",
    "import pandas as pd\n",
    "import math as m\n",
    "import sympy as sym\n",
    "import random as rand\n",
    "import matplotlib.pyplot as plt\n",
    "import cmath as cm\n",
    "# Testing..attention please..nuisance, you sent, who sent for me?"
   ]
  },
  {
   "cell_type": "code",
   "execution_count": 2,
   "metadata": {},
   "outputs": [],
   "source": [
    "# defininf the states\n",
    "# defininsg coefficeients sybols\n",
    "\n",
    "def Creating_states( coeff = [1/(2**.5),1/(2**.5),1/(2**.5),1/(2**.5)] , Abstract = False):    # coeff list like [a0,a1,b0,b1]\n",
    "    if Abstract == True:\n",
    "        a0 = sym.symbols('a0')\n",
    "        a1 = sym.symbols('a1')\n",
    "        b0 = sym.symbols('b0')\n",
    "        b1 = sym.symbols('b1')\n",
    "    else:\n",
    "        a0 = coeff[0]\n",
    "        a1 = coeff[1]\n",
    "        b0 = coeff[2]\n",
    "        b1 = coeff[3]\n",
    "    psi0 = [a0,a1]      # defining states\n",
    "    psi1 = [b0,b1]\n",
    "    return([psi0,psi1])"
   ]
  },
  {
   "cell_type": "code",
   "execution_count": 5,
   "metadata": {},
   "outputs": [],
   "source": [
    "psi0 = Creating_states(Abstract=False)[0]\n",
    "psi1 = Creating_states(Abstract=False)[1]"
   ]
  },
  {
   "cell_type": "code",
   "execution_count": 6,
   "metadata": {},
   "outputs": [],
   "source": [
    "psi0sq = []\n",
    "psi1sq = []\n",
    "[[psi0sq.append(i*j) for i in psi0] for j in psi0]\n",
    "[[psi1sq.append(i*j) for i in psi1] for j in psi1]   # creating list of coeff for squared states (intermeditate step)\n",
    "\n",
    "psi0psi0 = [psi0sq[0], (psi0sq[1]**2+psi0sq[2]**2)**(.5), psi0sq[3]]        # the second element is the normalized coefficient due to the addition of states (01+10). See OneNote writeup for details\n",
    "psi1psi1 = [psi1sq[0], (psi1sq[1]**(2)+psi1sq[2]**(2))**(.5), psi1sq[3]]            # symmetric states in basis (|00>, normalized version of (|01>+|10>),|11>)\n",
    "\n",
    "# psi0psi0\n",
    "# sum([i**2 for i in psi0psi0])   # adding to 1 now."
   ]
  },
  {
   "cell_type": "code",
   "execution_count": 13,
   "metadata": {},
   "outputs": [
    {
     "data": {
      "text/latex": [
       "$\\displaystyle \\left[\\begin{matrix}0.25 & 0.353553390593274 & 0.25\\\\0.353553390593274 & 0.5 & 0.353553390593274\\\\0.25 & 0.353553390593274 & 0.25\\end{matrix}\\right]$"
      ],
      "text/plain": [
       "Matrix([\n",
       "[             0.25, 0.353553390593274,              0.25],\n",
       "[0.353553390593274,               0.5, 0.353553390593274],\n",
       "[             0.25, 0.353553390593274,              0.25]])"
      ]
     },
     "execution_count": 13,
     "metadata": {},
     "output_type": "execute_result"
    }
   ],
   "source": [
    "#creating the density matrix rho\n",
    "# rho is 1/2*(|psi0psi0Xpsi0psi0|+|psi1psi1Xpsi1psi1|)\n",
    "# findiing the conjugate vectors \n",
    "vec_psi0psi0 = sym.Matrix(psi0psi0)     # convertying to sympy vectors for easy matrix multiplication\n",
    "vec_psi1psi1 = sym.Matrix(psi1psi1)\n",
    "\n",
    "rho = (1/2)*(vec_psi0psi0*vec_psi0psi0.T  + vec_psi1psi1*vec_psi1psi1.T)       # density matrix with priors 1/2 each.\n",
    "rho"
   ]
  },
  {
   "cell_type": "code",
   "execution_count": 27,
   "metadata": {},
   "outputs": [],
   "source": [
    "# creating the SIC POVM matrices\n",
    "w = np.e**((2/3)*np.pi*(1j))\n",
    "POVM_vec = (1/(2**.5))*(np.array([[0,1,-1],[-1,0,1],[1,-1,0],[0,w,-w**2],[-1,0,w**2],[1,-w,0],[0,w**2,-w],[-1,0,w],[1,-w**2,0]]))\n",
    "POVM_elts = [(1/3)*np.outer(POVM_vec[i],np.conjugate(POVM_vec[i])) for i in range(len(POVM_vec))]\n",
    "# sum([np.trace(POVM_elts[i]) for i in range(9)])`# trace sum checks out`"
   ]
  },
  {
   "cell_type": "code",
   "execution_count": 34,
   "metadata": {},
   "outputs": [
    {
     "name": "stdout",
     "output_type": "stream",
     "text": [
      "0.999999999999999\n"
     ]
    }
   ],
   "source": [
    "prob_vec =  [np.trace(np.dot(POVM_elts[i],rho)) for i in range(9)] #[(POVM_elts[i]*rho).trace() for i in range(len(POVM_elts))]\n",
    "# prob_vec\n",
    "print(sum(prob_vec))        # prob adding to 1!"
   ]
  },
  {
   "cell_type": "code",
   "execution_count": 37,
   "metadata": {},
   "outputs": [
    {
     "data": {
      "text/plain": [
       "0.010689976613632043"
      ]
     },
     "execution_count": 37,
     "metadata": {},
     "output_type": "execute_result"
    }
   ],
   "source": [
    "# verifying that the trace still holds to be the same, equalt to .111 for this weird POVM element.\n",
    "c = .00308641975308642*2.71828182845905**(4.18879020478639*(sym.I))\n",
    "\n",
    "p = cm.polar(c)\n",
    "cm.rect(p[0], p[1])\n",
    " \n",
    "r = .00617-.0015\n",
    "i = .0026\n",
    "\n",
    "ab = (r**2+i**2)**(.5)\n",
    "2*ab # verified"
   ]
  },
  {
   "cell_type": "code",
   "execution_count": 39,
   "metadata": {},
   "outputs": [
    {
     "name": "stdout",
     "output_type": "stream",
     "text": [
      "[0.00714886980224206, 0, 0.00714886980224206, 0.183925565098879, 0.125000000000000, 0.183925565098879, 0.183925565098879, 0.125000000000000, 0.183925565098879]\n",
      "['d7', 'd8', 'd6', 'd4', 'd9', 'd4', 'd7', 'd9', 'd4', 'd8', 'd6', 'd9', 'd8', 'd4', 'd4', 'd4', 'd7', 'd6', 'd9', 'd7', 'd6', 'd4', 'd7', 'd7', 'd8', 'd8', 'd6', 'd6', 'd9', 'd6', 'd9', 'd5', 'd9', 'd4', 'd9', 'd8', 'd5', 'd4', 'd4', 'd4', 'd7', 'd7', 'd4', 'd8', 'd9', 'd7', 'd6', 'd4', 'd8', 'd7', 'd7', 'd7', 'd8', 'd7', 'd9', 'd8', 'd7', 'd4', 'd6', 'd6', 'd9', 'd6', 'd4', 'd4', 'd5', 'd6', 'd9', 'd4', 'd6', 'd8', 'd8', 'd1', 'd7', 'd7', 'd4', 'd6', 'd5', 'd7', 'd7', 'd5', 'd8', 'd4', 'd6', 'd7', 'd6', 'd9', 'd4', 'd4', 'd4', 'd4']\n"
     ]
    },
    {
     "data": {
      "text/plain": [
       "[0, 1, 0, 0, 23, 5, 16, 19, 13]"
      ]
     },
     "execution_count": 39,
     "metadata": {},
     "output_type": "execute_result"
    }
   ],
   "source": [
    "N = 90          # number of measurements\n",
    "\n",
    "POVM_dir_symbols = ['d1','d2','d3','d4','d5','d6','d7','d8','d9']       # symbols to indicate collapsed direction\n",
    "\n",
    "#prob distribution is simply the corresponding elements of the prob_vec\n",
    "collapse_dir = rand.choices(POVM_dir_symbols, weights=prob_vec, k = N)\n",
    "\n",
    "nj_list = [collapse_dir.count(f'd{i}') for i in range(9)]\n",
    "print(prob_vec)\n",
    "print(collapse_dir)\n",
    "\n",
    "nj_list\n"
   ]
  },
  {
   "cell_type": "code",
   "execution_count": null,
   "metadata": {},
   "outputs": [],
   "source": []
  }
 ],
 "metadata": {
  "kernelspec": {
   "display_name": "Python 3",
   "language": "python",
   "name": "python3"
  },
  "language_info": {
   "codemirror_mode": {
    "name": "ipython",
    "version": 3
   },
   "file_extension": ".py",
   "mimetype": "text/x-python",
   "name": "python",
   "nbconvert_exporter": "python",
   "pygments_lexer": "ipython3",
   "version": "3.11.4"
  },
  "orig_nbformat": 4
 },
 "nbformat": 4,
 "nbformat_minor": 2
}
