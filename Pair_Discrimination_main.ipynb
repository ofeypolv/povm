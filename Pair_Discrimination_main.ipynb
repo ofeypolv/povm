{
 "cells": [
  {
   "cell_type": "code",
   "execution_count": 1,
   "metadata": {},
   "outputs": [],
   "source": [
    "import numpy as np\n",
    "import pandas as pd\n",
    "import math as m\n",
    "import sympy as sym\n",
    "import random as rand\n",
    "import matplotlib.pyplot as plt\n",
    "import cmath as cm"
   ]
  },
  {
   "cell_type": "code",
   "execution_count": 2,
   "metadata": {},
   "outputs": [],
   "source": [
    "# defininf the states\n",
    "# defininsg coefficeients sybols\n",
    "\n",
    "def Creating_states(coeff, Abstract = False):    # coeff list like [a0,a1,b0,b1]\n",
    "    if Abstract == True:\n",
    "        a0 = sym.symbols('a0')\n",
    "        a1 = sym.symbols('a1')\n",
    "        b0 = sym.symbols('b0')\n",
    "        b1 = sym.symbols('b1')\n",
    "    else:\n",
    "        a0 = coeff[0]\n",
    "        a1 = coeff[1]\n",
    "        b0 = coeff[2]\n",
    "        b1 = coeff[3]\n",
    "    psi0 = [a0,a1]      # defining states\n",
    "    psi1 = [b0,b1]\n",
    "    return([psi0,psi1])"
   ]
  },
  {
   "cell_type": "code",
   "execution_count": 3,
   "metadata": {},
   "outputs": [
    {
     "name": "stdout",
     "output_type": "stream",
     "text": [
      "[0.7071067811865475, 0.7071067811865475, 1, 0]\n",
      "[0.7071067811865475, 0.7071067811865475] [1, 0]\n"
     ]
    }
   ],
   "source": [
    "coeff = [1/(2**.5),1/(2**.5),1,0]\n",
    "\n",
    "initial_states = Creating_states(coeff, Abstract=False)     # Creating the two states with these coefficients\n",
    "\n",
    "psi0 = initial_states[0]\n",
    "psi1 = initial_states[1]\n",
    "\n",
    "print(coeff)\n",
    "print(psi0,psi1)"
   ]
  },
  {
   "cell_type": "code",
   "execution_count": 4,
   "metadata": {},
   "outputs": [
    {
     "name": "stdout",
     "output_type": "stream",
     "text": [
      "[0.4999999999999999, 0.4999999999999999, 0.4999999999999999, 0.4999999999999999] [1, 0, 0, 0]\n",
      "[0.4999999999999999, 0.7071067811865474, 0.4999999999999999] [1, 0.0, 0]\n"
     ]
    }
   ],
   "source": [
    "psi0sq = []\n",
    "psi1sq = []\n",
    "[[psi0sq.append(i*j) for i in psi0] for j in psi0]\n",
    "[[psi1sq.append(i*j) for i in psi1] for j in psi1]   # creating list of coeff for squared states (intermeditate step)\n",
    "\n",
    "print(psi0sq, psi1sq)\n",
    "\n",
    "psi0psi0 = [psi0sq[0], (psi0sq[1]**2+psi0sq[2]**2)**(.5), psi0sq[3]]        # the second element is the normalized coefficient due to the addition of states (01+10). See OneNote writeup for details\n",
    "psi1psi1 = [psi1sq[0], (psi1sq[1]**(2)+psi1sq[2]**(2))**(.5), psi1sq[3]]            # symmetric states in basis (|00>, normalized version of (|01>+|10>),|11>)\n",
    "\n",
    "#psi0psi0 = [psi0sq[0], (psi0sq[1]+psi0sq[2]), psi0sq[3]]        # the second element is the normalized coefficient due to the addition of states (01+10). See OneNote writeup for details\n",
    "#psi1psi1 = [psi1sq[0], (psi1sq[1]+psi1sq[2]), psi1sq[3]]            # symmetric states in basis (|00>, normalized version of (|01>+|10>),|11>)\n",
    "\n",
    "print(psi0psi0, psi1psi1)\n",
    "\n",
    "# psi0psi0\n",
    "# sum([i**2 for i in psi0psi0])   # adding to 1 now."
   ]
  },
  {
   "cell_type": "code",
   "execution_count": 5,
   "metadata": {},
   "outputs": [
    {
     "name": "stdout",
     "output_type": "stream",
     "text": [
      "[[0.25 0.25 0.25 0.25]\n",
      " [0.25 0.25 0.25 0.25]\n",
      " [0.25 0.25 0.25 0.25]\n",
      " [0.25 0.25 0.25 0.25]]\n",
      "[[1 0 0 0]\n",
      " [0 0 0 0]\n",
      " [0 0 0 0]\n",
      " [0 0 0 0]]\n",
      "[[0.625 0.125 0.125 0.125]\n",
      " [0.125 0.125 0.125 0.125]\n",
      " [0.125 0.125 0.125 0.125]\n",
      " [0.125 0.125 0.125 0.125]]\n"
     ]
    }
   ],
   "source": [
    "psi0 = np.array(psi0)\n",
    "psip0 = np.outer(psi0,psi0)\n",
    "psps0 = np.kron(psip0,psip0)     # outer product of psi0 with itself\n",
    "psi1 = np.array(psi1)\n",
    "psip1 = np.outer(psi1,psi1)\n",
    "psps1 = np.kron(psip1,psip1)     # outer product of psi0 with itself\n",
    "\n",
    "rho_ex = (1/2)*(psps0+psps1)      # exact density matrix for the states - in the original 4-dim space\n",
    "\n",
    "print(psps0)\n",
    "print(psps1)\n",
    "print(rho_ex)"
   ]
  },
  {
   "cell_type": "code",
   "execution_count": 6,
   "metadata": {},
   "outputs": [
    {
     "name": "stdout",
     "output_type": "stream",
     "text": [
      "[[0.625     0.1767767 0.125    ]\n",
      " [0.1767767 0.25      0.1767767]\n",
      " [0.125     0.1767767 0.125    ]]\n",
      "0.9999999999999998\n"
     ]
    }
   ],
   "source": [
    "#creating the density matrix rho\n",
    "# rho is 1/2*(|psi0psi0Xpsi0psi0|+|psi1psi1Xpsi1psi1|)\n",
    "# findiing the conjugate vectors \n",
    "\n",
    "vec_psi0psi0 = np.array(psi0psi0)     # convertying to numpy arrays\n",
    "vec_psi1psi1 = np.array(psi1psi1)\n",
    "\n",
    "rho = (1/2)*(np.outer(vec_psi0psi0, vec_psi0psi0)+np.outer(vec_psi1psi1, vec_psi1psi1))       # density matrix with priors 1/2 each.\n",
    "\n",
    "print(rho)\n",
    "print(np.trace(rho))        # trace of rho is 1"
   ]
  },
  {
   "cell_type": "code",
   "execution_count": 7,
   "metadata": {},
   "outputs": [
    {
     "name": "stdout",
     "output_type": "stream",
     "text": [
      "[(0.33333333333333326+0j), (0.33333333333333326+0j), (0.33333333333333326+0j), (0.33333333333333315+0j), (0.3333333333333332+0j), (0.3333333333333332+0j), (0.33333333333333315+0j), (0.3333333333333332+0j), (0.3333333333333332+0j)]\n",
      "[[ 1.+0.j  0.-0.j  0.-0.j]\n",
      " [ 0.+0.j  1.+0.j -0.+0.j]\n",
      " [ 0.+0.j -0.+0.j  1.+0.j]]\n"
     ]
    }
   ],
   "source": [
    "# creating the SIC POVM matrices\n",
    "w = m.e**((2/3)*m.pi*(1j))\n",
    "POVM_vec = (1/(2**.5))*(np.array([[0,1,-1],[-1,0,1],[1,-1,0],[0,w,-w**2],[-1,0,w**2],[1,-w,0],[0,w**2,-w],[-1,0,w],[1,-w**2,0]]))  # an array of POVM direction vectors\n",
    "POVM_elts = [(1/3)*np.outer(np.conjugate(POVM_vec[i]),POVM_vec[i]) for i in range(len(POVM_vec))]   # a list of POVM matrices\n",
    "\n",
    "print([np.trace(POVM_elts[i]) for i in range(9)])  # trace of all 9 povms is the same - and not necessarily =1, which is ok\n",
    "print(np.round(sum([POVM_elts[i] for i in range(9)])))  # sum of all povms is the identity matrix\n",
    "# POVM_elts[0]"
   ]
  },
  {
   "cell_type": "code",
   "execution_count": 8,
   "metadata": {},
   "outputs": [
    {
     "name": "stdout",
     "output_type": "stream",
     "text": [
      "0.9999999999999994 [0.0035744349011210316, 0.08333333333333333, 0.08690776823445436, 0.09196278254943938, 0.1458333333333333, 0.17529611588277272, 0.09196278254943938, 0.14583333333333326, 0.17529611588277275]\n",
      "9\n"
     ]
    }
   ],
   "source": [
    "# prob_vec = [(POVM_elts[i]*rho).trace() for i in range(len(POVM_elts))]\n",
    "prob_vec =  [np.trace(np.dot(POVM_elts[i],rho)) for i in range(9)] #[(POVM_elts[i]*rho).trace() for i in range(len(POVM_elts))]\n",
    "prob_vec = [i.real for i in prob_vec if abs(i.imag) < .01]         # cleaned up the trailing imaginary parts\n",
    "\n",
    "print(sum(prob_vec),prob_vec) # sum of probabilities is 1 and each probability is positive and <1\n",
    "print(len(prob_vec))"
   ]
  },
  {
   "cell_type": "code",
   "execution_count": 9,
   "metadata": {},
   "outputs": [
    {
     "name": "stdout",
     "output_type": "stream",
     "text": [
      "9\n",
      "[0.0023, 0.0812, 0.0877, 0.0939, 0.1414, 0.1737, 0.0923, 0.1477, 0.1798]\n",
      "[0.0035744349011210316, 0.08333333333333333, 0.08690776823445436, 0.09196278254943938, 0.1458333333333333, 0.17529611588277272, 0.09196278254943938, 0.14583333333333326, 0.17529611588277275]\n"
     ]
    }
   ],
   "source": [
    "N = 10000       # number of measurements  \n",
    "\n",
    "POVM_dir_symbols = ['d1','d2','d3','d4','d5','d6','d7','d8','d9']       # symbols to indicate collapsed direction\n",
    "#prob distribution is simply the corresponding elements of the prob_vec\n",
    "collapse_dir_vec = rand.choices(POVM_dir_symbols, weights=prob_vec, k = N)   # choosing collapse directions with weights for N trials\n",
    "\n",
    "nj_vec = [collapse_dir_vec.count(f'd{i+1}') for i in range(9)]\n",
    "pj_num_vec = [i/N for i in nj_vec]         # working\n",
    "#([i*N for i in prob_vec] , nj_vec)   # comparing the theoretical and experimental collapse probabilities\n",
    "\n",
    "print(len(nj_vec))\n",
    "print(pj_num_vec)\n",
    "print(prob_vec)\n"
   ]
  },
  {
   "cell_type": "code",
   "execution_count": 10,
   "metadata": {},
   "outputs": [],
   "source": [
    "M = [[np.trace(np.dot(POVM_elts[i],POVM_elts[j])) for i in range(len(POVM_elts))] for j in range(len(POVM_elts))]     # creating M matrix using POVM definition\n"
   ]
  },
  {
   "cell_type": "code",
   "execution_count": 11,
   "metadata": {},
   "outputs": [],
   "source": [
    "u_0 = [1/3 for i in range(9)]           # cerating u_0 vector, to create the inverse matrix\n",
    "M_inv = 3*np.outer(u_0,u_0) + 12*(np.eye(9) - np.outer(u_0,u_0))        # creating the inverse matrix\n",
    "# np.trace(np.dot(M,M_inv))       # gives identity, checks out\n",
    "r_vec = np.dot(M_inv,pj_num_vec)\n"
   ]
  },
  {
   "cell_type": "code",
   "execution_count": 12,
   "metadata": {},
   "outputs": [],
   "source": [
    "rho_num_list = [r_vec[i]*POVM_elts[i] for i in range(len(POVM_elts))]   # list of matrices, see equation 7 in Hillery notes pair_disc.pdf\n",
    "# [i for i in rho_num_list]"
   ]
  },
  {
   "cell_type": "code",
   "execution_count": 13,
   "metadata": {},
   "outputs": [
    {
     "data": {
      "text/plain": [
       "array([[0.623 +0.j        , 0.1781+0.01056551j, 0.1267-0.01091192j],\n",
       "       [0.1781-0.01056551j, 0.2594+0.j        , 0.1816-0.00277128j],\n",
       "       [0.1267+0.01091192j, 0.1816+0.00277128j, 0.1176+0.j        ]])"
      ]
     },
     "execution_count": 13,
     "metadata": {},
     "output_type": "execute_result"
    }
   ],
   "source": [
    "rho_num = np.zeros_like(rho_num_list[0])\n",
    "\n",
    "# Loop over the matrices and sum them element-wise\n",
    "for matrix in rho_num_list:\n",
    "    rho_num = np.add(rho_num, matrix)\n",
    "\n",
    "rho_num   "
   ]
  },
  {
   "cell_type": "code",
   "execution_count": 14,
   "metadata": {},
   "outputs": [
    {
     "name": "stdout",
     "output_type": "stream",
     "text": [
      "[[0.625     0.1767767 0.125    ]\n",
      " [0.1767767 0.25      0.1767767]\n",
      " [0.125     0.1767767 0.125    ]]\n",
      "[[0.623 +0.j         0.1781+0.01056551j 0.1267-0.01091192j]\n",
      " [0.1781-0.01056551j 0.2594+0.j         0.1816-0.00277128j]\n",
      " [0.1267+0.01091192j 0.1816+0.00277128j 0.1176+0.j        ]]\n"
     ]
    }
   ],
   "source": [
    "print(rho)\n",
    "print(rho_num)"
   ]
  },
  {
   "cell_type": "code",
   "execution_count": 15,
   "metadata": {},
   "outputs": [
    {
     "data": {
      "text/plain": [
       "array([[-0.002    +0.j        ,  0.0013233+0.01056551j,\n",
       "         0.0017   -0.01091192j],\n",
       "       [ 0.0013233-0.01056551j,  0.0094   +0.j        ,\n",
       "         0.0048233-0.00277128j],\n",
       "       [ 0.0017   +0.01091192j,  0.0048233+0.00277128j,\n",
       "        -0.0074   +0.j        ]])"
      ]
     },
     "execution_count": 15,
     "metadata": {},
     "output_type": "execute_result"
    }
   ],
   "source": [
    "rho # printing the theoretical density matrix and below the numerically reconstructed one\n",
    "del_rho = rho_num-rho  # defining the difference of numberical and theoretical state\n",
    "del_rho"
   ]
  },
  {
   "cell_type": "code",
   "execution_count": 16,
   "metadata": {},
   "outputs": [],
   "source": [
    "eigenvalues, eigenvectors = np.linalg.eig(del_rho)  # each COLUMN is the corresponding eigenvector and not the row. eigenvectors[:,0]\n",
    "# eigenvectors[:,0]   # eigenvector correspoding to the first eigenvalue\n",
    "evals = np.array([i.real for i in eigenvalues if abs(i.imag)< .001])\n",
    "norm_del_rho = max([abs(i) for i in evals])     # picking out the largest magnitude evalue\n",
    "\n",
    "# evals   Working till here"
   ]
  },
  {
   "cell_type": "code",
   "execution_count": 17,
   "metadata": {},
   "outputs": [],
   "source": [
    "#Creating function for the deltarho error\n",
    "\n",
    "def experiment_rho(N, coeff, priors):\n",
    "    initial_states = Creating_states(Abstract=False, coeff = coeff)     # Creating the two states with these coefficients\n",
    "    psi0 = initial_states[0]\n",
    "    psi1 = initial_states[1]    # created the states to be discriminated\n",
    "\n",
    "    psi0sq = []\n",
    "    psi1sq = []\n",
    "    [[psi0sq.append(i*j) for i in psi0] for j in psi0]\n",
    "    [[psi1sq.append(i*j) for i in psi1] for j in psi1]   \n",
    "    psi0psi0 = [psi0sq[0], (psi0sq[1]**2+psi0sq[2]**2)**(.5), psi0sq[3]]    \n",
    "    psi1psi1 = [psi1sq[0], (psi1sq[1]**(2)+psi1sq[2]**(2))**(.5), psi1sq[3]]    # creating square states\n",
    "    \n",
    "    vec_psi0psi0 = np.array(psi0psi0)     \n",
    "    vec_psi1psi1 = np.array(psi1psi1)\n",
    "    rho = priors[0]*np.outer(vec_psi0psi0, vec_psi0psi0)+ priors[1]*np.outer(vec_psi1psi1, vec_psi1psi1)     # theoretical density matrix with priors 1/2 each.\n",
    "\n",
    "    prob_vec =  [np.trace(np.dot(POVM_elts[i],rho)) for i in range(9)] \n",
    "    prob_vec = [i.real for i in prob_vec if abs(i.imag) < .01]          # cleaned up theoretical prob vector\n",
    "\n",
    "    POVM_dir_symbols = ['d1','d2','d3','d4','d5','d6','d7','d8','d9']      # symbols to indicate collapsed direction\n",
    "    #prob distribution is simply the corresponding elements of the prob_vec\n",
    "    collapse_dir_vec = rand.choices(POVM_dir_symbols, weights=prob_vec, k = N)   # choosing collapse directions with weights for N trials\n",
    "\n",
    "    nj_vec = [collapse_dir_vec.count(f'd{i+1}') for i in range(9)]\n",
    "    pj_num_vec = [i/N for i in nj_vec]                                  # numerical prob vector     \n",
    "    \n",
    "    r_vec = np.dot(M_inv,pj_num_vec)\n",
    "    \n",
    "    # constructing the rho numrical using the r_vector etc.\n",
    "    rho_num_list = [r_vec[i]*POVM_elts[i] for i in range(len(POVM_elts))]   # list of matrices, see equation 7 in Hillery notes pair_disc.pdf\n",
    "    rho_num = np.zeros_like(rho_num_list[0])\n",
    "    for matrix in rho_num_list:\n",
    "        rho_num = np.add(rho_num, matrix)       # created the numerical rho\n",
    "    \n",
    "    del_rho = rho_num-rho \n",
    "    \n",
    "    eigenvalues, eigenvectors = np.linalg.eig(del_rho)  # each COLUMN is the corresponding eigenvector and not the row. eigenvectors[:,0]\n",
    "    # eigenvectors[:,0]   # eigenvector correspoding to the first eigenvalue\n",
    "    evals = np.array([i.real for i in eigenvalues if abs(i.imag)< .001])\n",
    "    norm_del_rho = max([abs(i) for i in evals])     # picking out the largest magnitude evalue\n",
    "    error = norm_del_rho\n",
    "\n",
    "    return error\n",
    "\n"
   ]
  },
  {
   "cell_type": "code",
   "execution_count": 18,
   "metadata": {},
   "outputs": [
    {
     "name": "stdout",
     "output_type": "stream",
     "text": [
      "0.011082412211964762\n"
     ]
    },
    {
     "data": {
      "image/png": "[encoded data removed]",
      "text/plain": [
       "<Figure size 640x480 with 1 Axes>"
      ]
     },
     "metadata": {},
     "output_type": "display_data"
    },
    {
     "name": "stdout",
     "output_type": "stream",
     "text": [
      "Error Converged to:  0.00887407713957068\n"
     ]
    }
   ],
   "source": [
    "\n",
    "coeff = [0,1,1/(2**.5),1/(2**.5)] #1/(2**.5)\n",
    "priors = [.5,.5]\n",
    "trials = [1000*(i+1) for i in range(100)]\n",
    "\n",
    "sqrtN  = [2.6/(i**.5) for i in trials]     # ideal square root shape with a constant multiplied for scaling\n",
    "errors = [experiment_rho(i,coeff,priors) for i in trials]\n",
    "print(errors[-1])\n",
    "\n",
    "plt.plot(trials, errors, label=r'$\\Delta \\rho $')\n",
    "plt.plot(trials ,sqrtN, \"--\", label=r'$\\frac{1}{\\sqrt{N}}$')\n",
    "plt.xlabel(' N (trials)')\n",
    "plt.ylabel(r'$\\Delta \\rho $')\n",
    "plt.title(r'$|\\psi_0\\rangle ={}|0\\rangle+{}|1\\rangle $, $|\\psi_1\\rangle ={}|0\\rangle+{}|1\\rangle $, $p_0={},\\,p_1={}$'.format(round(coeff[0],1), round(coeff[1],1), round(coeff[2],1), round(coeff[3],1), priors[0], priors[1]))\n",
    "plt.legend()\n",
    "\n",
    "plt.show()\n",
    "\n",
    "print(f'Error Converged to: ' , experiment_rho( 1000*100 ,coeff,priors))"
   ]
  },
  {
   "cell_type": "code",
   "execution_count": 19,
   "metadata": {},
   "outputs": [
    {
     "name": "stdout",
     "output_type": "stream",
     "text": [
      "[ 0.75272548-7.79313695e-19j  0.25413249+1.10477353e-18j\n",
      " -0.00685797+5.41901901e-19j] [[ 0.86035888+0.j         -0.50893356+0.0020199j  -0.00830262+0.02638593j]\n",
      " [ 0.41786085-0.0155904j   0.71505194+0.j         -0.56014491-0.00936223j]\n",
      " [ 0.29117743+0.01214714j  0.47863706-0.02428661j  0.82787975+0.j        ]]\n",
      "[0.29117743+0.01214714j 0.47863706-0.02428661j 0.82787975+0.j        ]\n",
      "(0.29117743147796327+0.012147142753388485j) (0.47863705550238084-0.02428660932107011j) (0.8278797497393696+0j)\n",
      "0.18444006398865562 0.9782036830212243\n"
     ]
    }
   ],
   "source": [
    "# computing the error (fidelity) on the states directly \n",
    "\n",
    "eigenvalues, eigenvectors = np.linalg.eig(rho_num) \n",
    "evals = np.array([i.real for i in eigenvalues if abs(i.imag)< .001])\n",
    "print(eigenvalues,eigenvectors)\n",
    "\n",
    "\n",
    "# Find the index of the smallest eigenvalue\n",
    "index = np.argmin(evals)\n",
    "\n",
    "# Select the corresponding eigenvector\n",
    "#eigenvector = eigenvectors[:, index]\n",
    "eigenvector = eigenvectors[index]\n",
    "print(eigenvector)\n",
    "\n",
    "# coeffs of csi \n",
    "c00=eigenvector[0]\n",
    "c01=eigenvector[1]\n",
    "c11=eigenvector[2]\n",
    "\n",
    "print(c00,c01,c11)\n",
    "\n",
    "# def eq 5 in Hillery notes\n",
    "#def quadratic_equation(x, a, b, c):\n",
    "    #return a * x**2 + b * x + c\n",
    "\n",
    "# solve eq 5 in Hillery notes\n",
    "def solve_quadratic(a, b, c):\n",
    "    d = (b**2) - (4*a*c)\n",
    "    sol1 = (-b-cm.sqrt(d))/(2*a)\n",
    "    sol2 = (-b+cm.sqrt(d))/(2*a)\n",
    "    return sol1, sol2\n",
    "f0,f1=solve_quadratic(c00, 2*c01, c11)\n",
    "\n",
    "# find coeff a0,1 and b0,1 for the states\n",
    "a0 = abs(f0)/(m.sqrt(1+ (abs(f0))**2))\n",
    "a1 = 1/(m.sqrt(1+ (abs(f0))**2))\n",
    "b0 = abs(f1)/(m.sqrt(1+ (abs(f1))**2))\n",
    "b1 = 1/(m.sqrt(1+ (abs(f1))**2))\n",
    "\n",
    "# numerical states\n",
    "psi0_num = [a0,a1]\n",
    "psi1_num = [b0,b1]\n",
    "\n",
    "# theoretical states\n",
    "psi0 = [coeff[0],coeff[1]]\n",
    "psi1 = [coeff[2],coeff[3]]\n",
    "\n",
    "# fidelity\n",
    "fid0 = abs(np.dot(psi0_num,psi0))**2\n",
    "fid1 = abs(np.dot(psi1_num,psi1))**2\n",
    "print(fid0,fid1)\n"
   ]
  },
  {
   "cell_type": "code",
   "execution_count": 20,
   "metadata": {},
   "outputs": [],
   "source": [
    "#Creating function for the deltarho error\n",
    "\n",
    "def solve_quadratic(a, b, c):\n",
    "    d = (b**2) - (4*a*c)\n",
    "    sol1 = (-b-cm.sqrt(d))/(2*a)\n",
    "    sol2 = (-b+cm.sqrt(d))/(2*a)\n",
    "    return sol1, sol2\n",
    "\n",
    "def experiment_fid(N, coeff, priors):\n",
    "    initial_states = Creating_states(Abstract=False, coeff = coeff)     # Creating the two states with these coefficients\n",
    "    psi0 = initial_states[0]\n",
    "    psi1 = initial_states[1]    # created the states to be discriminated\n",
    "\n",
    "    psi0sq = []\n",
    "    psi1sq = []\n",
    "    [[psi0sq.append(i*j) for i in psi0] for j in psi0]\n",
    "    [[psi1sq.append(i*j) for i in psi1] for j in psi1]   \n",
    "    psi0psi0 = [psi0sq[0], (psi0sq[1]**2+psi0sq[2]**2)**(.5), psi0sq[3]]    \n",
    "    psi1psi1 = [psi1sq[0], (psi1sq[1]**(2)+psi1sq[2]**(2))**(.5), psi1sq[3]]    # creating square states\n",
    "    \n",
    "    vec_psi0psi0 = np.array(psi0psi0)     \n",
    "    vec_psi1psi1 = np.array(psi1psi1)\n",
    "    rho = priors[0]*np.outer(vec_psi0psi0, vec_psi0psi0)+ priors[1]*np.outer(vec_psi1psi1, vec_psi1psi1)     # theoretical density matrix with priors 1/2 each.\n",
    "\n",
    "    prob_vec =  [np.trace(np.dot(POVM_elts[i],rho)) for i in range(9)] \n",
    "    prob_vec = [i.real for i in prob_vec if abs(i.imag) < .01]          # cleaned up theoretical prob vector\n",
    "\n",
    "    POVM_dir_symbols = ['d1','d2','d3','d4','d5','d6','d7','d8','d9']      # symbols to indicate collapsed direction\n",
    "    #prob distribution is simply the corresponding elements of the prob_vec\n",
    "    collapse_dir_vec = rand.choices(POVM_dir_symbols, weights=prob_vec, k = N)   # choosing collapse directions with weights for N trials\n",
    "\n",
    "    nj_vec = [collapse_dir_vec.count(f'd{i+1}') for i in range(9)]\n",
    "    pj_num_vec = [i/N for i in nj_vec]                                  # numerical prob vector     \n",
    "    \n",
    "    r_vec = np.dot(M_inv,pj_num_vec)\n",
    "    \n",
    "    # constructing the rho numrical using the r_vector etc.\n",
    "    rho_num_list = [r_vec[i]*POVM_elts[i] for i in range(len(POVM_elts))]   # list of matrices, see equation 7 in Hillery notes pair_disc.pdf\n",
    "    rho_num = np.zeros_like(rho_num_list[0])\n",
    "    for matrix in rho_num_list:\n",
    "        rho_num = np.add(rho_num, matrix)       # created the numerical rho\n",
    "     \n",
    "    eigenvalues, eigenvectors = np.linalg.eig(rho_num) \n",
    "    evals = np.array([i.real for i in eigenvalues if abs(i.imag)< .001])\n",
    "    index = np.argmin(evals)\n",
    "    eigenvector = eigenvectors[:,index]\n",
    "    c00=eigenvector[0]\n",
    "    c01=eigenvector[1]\n",
    "    c11=eigenvector[2]\n",
    "    f0,f1=solve_quadratic(c00, 2*c01, c11)\n",
    "    a0 = abs(f0)/(m.sqrt(1+ (abs(f0))**2))\n",
    "    a1 = 1/(m.sqrt(1+ (abs(f0))**2))\n",
    "    b0 = abs(f1)/(m.sqrt(1+ (abs(f1))**2))\n",
    "    b1 = 1/(m.sqrt(1+ (abs(f1))**2))\n",
    "    psi0_num = [a0,a1]\n",
    "    psi1_num = [b0,b1]\n",
    "    psi0 = [coeff[0],coeff[1]]\n",
    "    psi1 = [coeff[2],coeff[3]]\n",
    "    fid0 = abs(np.dot(psi0_num,psi0))**2\n",
    "    fid1 = abs(np.dot(psi1_num,psi1))**2\n",
    "    fid = [fid0,fid1]\n",
    "\n",
    "    return [psi0_num,psi1_num,fid]"
   ]
  },
  {
   "cell_type": "code",
   "execution_count": 22,
   "metadata": {},
   "outputs": [
    {
     "data": {
      "image/png": "[encoded data removed]",
      "text/plain": [
       "<Figure size 1000x400 with 2 Axes>"
      ]
     },
     "metadata": {},
     "output_type": "display_data"
    }
   ],
   "source": [
    "coeff = [1,0,0,1]\n",
    "priors = [.5,.5]\n",
    "trials = [1000*(i+1) for i in range(100)]\n",
    "\n",
    "pfid  = [1 for i in trials]     # perfect fidelity of 1\n",
    "error0 = [experiment_fid(i,coeff,priors)[2][0] for i in trials]\n",
    "error1 = [experiment_fid(i,coeff,priors)[2][1] for i in trials]\n",
    "\n",
    "fig, (ax1, ax2) = plt.subplots(1,2, figsize=(10,4), sharey=True)\n",
    "\n",
    "ax1.plot(trials, error0, label=r'$F_0=|\\langle \\psi_0|\\psi_0^{\\,n}\\rangle|^2$')\n",
    "ax1.plot(trials , pfid, \"--\", label=r'$F=1$')\n",
    "ax1.set_xlabel(' N (trials)')\n",
    "ax1.set_ylabel(r'Fidelity $F$')\n",
    "ax1.set_title(r'$|\\psi_0\\rangle ={}|0\\rangle+{}|1\\rangle $, $p_0={}$'.format(round(coeff[0],1), round(coeff[1],1), priors[0]))\n",
    "ax1.legend(loc='best')\n",
    "\n",
    "ax2.plot(trials, error1, label=r'$F_1=|\\langle \\psi_1|\\psi_1^{\\,n}\\rangle|^2$')\n",
    "ax2.plot(trials , pfid, \"--\", label=r'$F=1$')\n",
    "ax2.set_xlabel(' N (trials)')\n",
    "ax2.set_ylabel(r'Fidelity $F$')\n",
    "ax2.set_title(r'$|\\psi_1\\rangle ={}|0\\rangle+{}|1\\rangle $, $p_0={}$'.format(round(coeff[2],1), round(coeff[3],1), priors[1]))\n",
    "ax2.legend(loc='best')\n",
    "\n",
    "plt.show()"
   ]
  }
 ],
 "metadata": {
  "kernelspec": {
   "display_name": "Python 3",
   "language": "python",
   "name": "python3"
  },
  "language_info": {
   "codemirror_mode": {
    "name": "ipython",
    "version": 3
   },
   "file_extension": ".py",
   "mimetype": "text/x-python",
   "name": "python",
   "nbconvert_exporter": "python",
   "pygments_lexer": "ipython3",
   "version": "3.11.4"
  },
  "orig_nbformat": 4
 },
 "nbformat": 4,
 "nbformat_minor": 2
}
