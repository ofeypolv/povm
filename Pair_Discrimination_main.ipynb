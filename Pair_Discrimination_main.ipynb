{
 "cells": [
  {
   "cell_type": "code",
   "execution_count": 1,
   "metadata": {},
   "outputs": [],
   "source": [
    "import numpy as np\n",
    "import pandas as pd\n",
    "import math as m\n",
    "import sympy as sym\n",
    "import random as rand\n",
    "import matplotlib.pyplot as plt\n",
    "import cmath as cm"
   ]
  },
  {
   "cell_type": "code",
   "execution_count": 2,
   "metadata": {},
   "outputs": [],
   "source": [
    "# defininf the states\n",
    "# defininsg coefficeients sybols\n",
    "\n",
    "def Creating_states(coeff, Abstract = False):    # coeff list like [a0,a1,b0,b1]\n",
    "    if Abstract == True:\n",
    "        a0 = sym.symbols('a0')\n",
    "        a1 = sym.symbols('a1')\n",
    "        b0 = sym.symbols('b0')\n",
    "        b1 = sym.symbols('b1')\n",
    "    else:\n",
    "        a0 = coeff[0]\n",
    "        a1 = coeff[1]\n",
    "        b0 = coeff[2]\n",
    "        b1 = coeff[3]\n",
    "    psi0 = [a0,a1]      # defining states\n",
    "    psi1 = [b0,b1]\n",
    "    return([psi0,psi1])"
   ]
  },
  {
   "cell_type": "code",
   "execution_count": 3,
   "metadata": {},
   "outputs": [
    {
     "name": "stdout",
     "output_type": "stream",
     "text": [
      "[0.7071067811865475, 0.7071067811865475, 1, 0]\n",
      "[0.7071067811865475, 0.7071067811865475] [1, 0]\n"
     ]
    }
   ],
   "source": [
    "coeff = [1/(2**.5),1/(2**.5),1,0]\n",
    "\n",
    "initial_states = Creating_states(coeff, Abstract=False)     # Creating the two states with these coefficients\n",
    "\n",
    "psi0 = initial_states[0]\n",
    "psi1 = initial_states[1]\n",
    "\n",
    "print(coeff)\n",
    "print(psi0,psi1)"
   ]
  },
  {
   "cell_type": "code",
   "execution_count": 4,
   "metadata": {},
   "outputs": [
    {
     "name": "stdout",
     "output_type": "stream",
     "text": [
      "[0.4999999999999999, 0.4999999999999999, 0.4999999999999999, 0.4999999999999999] [1, 0, 0, 0]\n",
      "[0.4999999999999999, 0.7071067811865474, 0.4999999999999999] [1, 0.0, 0]\n"
     ]
    }
   ],
   "source": [
    "psi0sq = []\n",
    "psi1sq = []\n",
    "[[psi0sq.append(i*j) for i in psi0] for j in psi0]\n",
    "[[psi1sq.append(i*j) for i in psi1] for j in psi1]   # creating list of coeff for squared states (intermeditate step)\n",
    "\n",
    "print(psi0sq, psi1sq)\n",
    "\n",
    "psi0psi0 = [psi0sq[0], (psi0sq[1]**2+psi0sq[2]**2)**(.5), psi0sq[3]]        # the second element is the normalized coefficient due to the addition of states (01+10). See OneNote writeup for details\n",
    "psi1psi1 = [psi1sq[0], (psi1sq[1]**(2)+psi1sq[2]**(2))**(.5), psi1sq[3]]            # symmetric states in basis (|00>, normalized version of (|01>+|10>),|11>)\n",
    "\n",
    "#psi0psi0 = [psi0sq[0], (psi0sq[1]+psi0sq[2]), psi0sq[3]]        # the second element is the normalized coefficient due to the addition of states (01+10). See OneNote writeup for details\n",
    "#psi1psi1 = [psi1sq[0], (psi1sq[1]+psi1sq[2]), psi1sq[3]]            # symmetric states in basis (|00>, normalized version of (|01>+|10>),|11>)\n",
    "\n",
    "print(psi0psi0, psi1psi1)\n",
    "\n",
    "# psi0psi0\n",
    "# sum([i**2 for i in psi0psi0])   # adding to 1 now."
   ]
  },
  {
   "cell_type": "code",
   "execution_count": 5,
   "metadata": {},
   "outputs": [
    {
     "name": "stdout",
     "output_type": "stream",
     "text": [
      "[[0.25 0.25 0.25 0.25]\n",
      " [0.25 0.25 0.25 0.25]\n",
      " [0.25 0.25 0.25 0.25]\n",
      " [0.25 0.25 0.25 0.25]]\n",
      "[[1 0 0 0]\n",
      " [0 0 0 0]\n",
      " [0 0 0 0]\n",
      " [0 0 0 0]]\n",
      "[[0.625 0.125 0.125 0.125]\n",
      " [0.125 0.125 0.125 0.125]\n",
      " [0.125 0.125 0.125 0.125]\n",
      " [0.125 0.125 0.125 0.125]]\n"
     ]
    }
   ],
   "source": [
    "psi0 = np.array(psi0)\n",
    "psip0 = np.outer(psi0,psi0)\n",
    "psps0 = np.kron(psip0,psip0)     # outer product of psi0 with itself\n",
    "psi1 = np.array(psi1)\n",
    "psip1 = np.outer(psi1,psi1)\n",
    "psps1 = np.kron(psip1,psip1)     # outer product of psi0 with itself\n",
    "\n",
    "rho_ex = (1/2)*(psps0+psps1)      # exact density matrix for the states - in the original 4-dim space\n",
    "\n",
    "print(psps0)\n",
    "print(psps1)\n",
    "print(rho_ex)"
   ]
  },
  {
   "cell_type": "code",
   "execution_count": 6,
   "metadata": {},
   "outputs": [
    {
     "name": "stdout",
     "output_type": "stream",
     "text": [
      "[[0.625     0.1767767 0.125    ]\n",
      " [0.1767767 0.25      0.1767767]\n",
      " [0.125     0.1767767 0.125    ]]\n",
      "0.9999999999999998\n"
     ]
    }
   ],
   "source": [
    "#creating the density matrix rho\n",
    "# rho is 1/2*(|psi0psi0Xpsi0psi0|+|psi1psi1Xpsi1psi1|)\n",
    "# findiing the conjugate vectors \n",
    "\n",
    "vec_psi0psi0 = np.array(psi0psi0)     # convertying to numpy arrays\n",
    "vec_psi1psi1 = np.array(psi1psi1)\n",
    "\n",
    "rho = (1/2)*(np.outer(vec_psi0psi0, vec_psi0psi0)+np.outer(vec_psi1psi1, vec_psi1psi1))       # density matrix with priors 1/2 each.\n",
    "\n",
    "print(rho)\n",
    "print(np.trace(rho))        # trace of rho is 1"
   ]
  },
  {
   "cell_type": "code",
   "execution_count": 7,
   "metadata": {},
   "outputs": [
    {
     "name": "stdout",
     "output_type": "stream",
     "text": [
      "[(0.33333333333333326+0j), (0.33333333333333326+0j), (0.33333333333333326+0j), (0.33333333333333315+0j), (0.3333333333333332+0j), (0.3333333333333332+0j), (0.33333333333333315+0j), (0.3333333333333332+0j), (0.3333333333333332+0j)]\n",
      "[[ 1.+0.j  0.-0.j  0.-0.j]\n",
      " [ 0.+0.j  1.+0.j -0.+0.j]\n",
      " [ 0.+0.j -0.+0.j  1.+0.j]]\n"
     ]
    }
   ],
   "source": [
    "# creating the SIC POVM matrices\n",
    "w = m.e**((2/3)*m.pi*(1j))\n",
    "POVM_vec = (1/(2**.5))*(np.array([[0,1,-1],[-1,0,1],[1,-1,0],[0,w,-w**2],[-1,0,w**2],[1,-w,0],[0,w**2,-w],[-1,0,w],[1,-w**2,0]]))  # an array of POVM direction vectors\n",
    "POVM_elts = [(1/3)*np.outer(np.conjugate(POVM_vec[i]),POVM_vec[i]) for i in range(len(POVM_vec))]   # a list of POVM matrices\n",
    "\n",
    "print([np.trace(POVM_elts[i]) for i in range(9)])  # trace of all 9 povms is the same - and not necessarily =1, which is ok\n",
    "print(np.round(sum([POVM_elts[i] for i in range(9)])))  # sum of all povms is the identity matrix\n",
    "# POVM_elts[0]"
   ]
  },
  {
   "cell_type": "code",
   "execution_count": 8,
   "metadata": {},
   "outputs": [
    {
     "name": "stdout",
     "output_type": "stream",
     "text": [
      "0.9999999999999994 [0.0035744349011210316, 0.08333333333333333, 0.08690776823445436, 0.09196278254943938, 0.1458333333333333, 0.17529611588277272, 0.09196278254943938, 0.14583333333333326, 0.17529611588277275]\n",
      "9\n"
     ]
    }
   ],
   "source": [
    "# prob_vec = [(POVM_elts[i]*rho).trace() for i in range(len(POVM_elts))]\n",
    "prob_vec =  [np.trace(np.dot(POVM_elts[i],rho)) for i in range(9)] #[(POVM_elts[i]*rho).trace() for i in range(len(POVM_elts))]\n",
    "prob_vec = [i.real for i in prob_vec if abs(i.imag) < .01]         # cleaned up the trailing imaginary parts\n",
    "\n",
    "print(sum(prob_vec),prob_vec) # sum of probabilities is 1 and each probability is positive and <1\n",
    "print(len(prob_vec))"
   ]
  },
  {
   "cell_type": "code",
   "execution_count": 9,
   "metadata": {},
   "outputs": [
    {
     "name": "stdout",
     "output_type": "stream",
     "text": [
      "9\n",
      "[0.0044, 0.0832, 0.0846, 0.09, 0.1454, 0.1807, 0.0914, 0.149, 0.1713]\n",
      "[0.0035744349011210316, 0.08333333333333333, 0.08690776823445436, 0.09196278254943938, 0.1458333333333333, 0.17529611588277272, 0.09196278254943938, 0.14583333333333326, 0.17529611588277275]\n"
     ]
    }
   ],
   "source": [
    "N = 10000       # number of measurements  \n",
    "\n",
    "POVM_dir_symbols = ['d1','d2','d3','d4','d5','d6','d7','d8','d9']       # symbols to indicate collapsed direction\n",
    "#prob distribution is simply the corresponding elements of the prob_vec\n",
    "collapse_dir_vec = rand.choices(POVM_dir_symbols, weights=prob_vec, k = N)   # choosing collapse directions with weights for N trials\n",
    "\n",
    "nj_vec = [collapse_dir_vec.count(f'd{i+1}') for i in range(9)]\n",
    "pj_num_vec = [i/N for i in nj_vec]         # working\n",
    "#([i*N for i in prob_vec] , nj_vec)   # comparing the theoretical and experimental collapse probabilities\n",
    "\n",
    "print(len(nj_vec))\n",
    "print(pj_num_vec)\n",
    "print(prob_vec)\n"
   ]
  },
  {
   "cell_type": "code",
   "execution_count": 10,
   "metadata": {},
   "outputs": [],
   "source": [
    "M = [[np.trace(np.dot(POVM_elts[i],POVM_elts[j])) for i in range(len(POVM_elts))] for j in range(len(POVM_elts))]     # creating M matrix using POVM definition\n"
   ]
  },
  {
   "cell_type": "code",
   "execution_count": 11,
   "metadata": {},
   "outputs": [],
   "source": [
    "u_0 = [1/3 for i in range(9)]           # cerating u_0 vector, to create the inverse matrix\n",
    "M_inv = 3*np.outer(u_0,u_0) + 12*(np.eye(9) - np.outer(u_0,u_0))        # creating the inverse matrix\n",
    "# np.trace(np.dot(M,M_inv))       # gives identity, checks out\n",
    "r_vec = np.dot(M_inv,pj_num_vec)\n"
   ]
  },
  {
   "cell_type": "code",
   "execution_count": 12,
   "metadata": {},
   "outputs": [],
   "source": [
    "rho_num_list = [r_vec[i]*POVM_elts[i] for i in range(len(POVM_elts))]   # list of matrices, see equation 7 in Hillery notes pair_disc.pdf\n",
    "# [i for i in rho_num_list]"
   ]
  },
  {
   "cell_type": "code",
   "execution_count": 13,
   "metadata": {},
   "outputs": [
    {
     "data": {
      "text/plain": [
       "array([[0.6284+0.j        , 0.1828-0.01628128j, 0.128 -0.00623538j],\n",
       "       [0.1828+0.01628128j, 0.2448+0.j        , 0.1726+0.00242487j],\n",
       "       [0.128 +0.00623538j, 0.1726-0.00242487j, 0.1268+0.j        ]])"
      ]
     },
     "execution_count": 13,
     "metadata": {},
     "output_type": "execute_result"
    }
   ],
   "source": [
    "rho_num = np.zeros_like(rho_num_list[0])\n",
    "\n",
    "# Loop over the matrices and sum them element-wise\n",
    "for matrix in rho_num_list:\n",
    "    rho_num = np.add(rho_num, matrix)\n",
    "\n",
    "rho_num   "
   ]
  },
  {
   "cell_type": "code",
   "execution_count": 14,
   "metadata": {},
   "outputs": [
    {
     "name": "stdout",
     "output_type": "stream",
     "text": [
      "[[0.625     0.1767767 0.125    ]\n",
      " [0.1767767 0.25      0.1767767]\n",
      " [0.125     0.1767767 0.125    ]]\n",
      "[[0.6284+0.j         0.1828-0.01628128j 0.128 -0.00623538j]\n",
      " [0.1828+0.01628128j 0.2448+0.j         0.1726+0.00242487j]\n",
      " [0.128 +0.00623538j 0.1726-0.00242487j 0.1268+0.j        ]]\n"
     ]
    }
   ],
   "source": [
    "print(rho)\n",
    "print(rho_num)"
   ]
  },
  {
   "cell_type": "code",
   "execution_count": 15,
   "metadata": {},
   "outputs": [
    {
     "data": {
      "text/plain": [
       "array([[ 0.0034   +0.j        ,  0.0060233-0.01628128j,\n",
       "         0.003    -0.00623538j],\n",
       "       [ 0.0060233+0.01628128j, -0.0052   +0.j        ,\n",
       "        -0.0041767+0.00242487j],\n",
       "       [ 0.003    +0.00623538j, -0.0041767-0.00242487j,\n",
       "         0.0018   +0.j        ]])"
      ]
     },
     "execution_count": 15,
     "metadata": {},
     "output_type": "execute_result"
    }
   ],
   "source": [
    "rho # printing the theoretical density matrix and below the numerically reconstructed one\n",
    "del_rho = rho_num-rho  # defining the difference of numberical and theoretical state\n",
    "del_rho"
   ]
  },
  {
   "cell_type": "code",
   "execution_count": 16,
   "metadata": {},
   "outputs": [],
   "source": [
    "eigenvalues, eigenvectors = np.linalg.eig(del_rho)  # each COLUMN is the corresponding eigenvector and not the row. eigenvectors[:,0]\n",
    "# eigenvectors[:,0]   # eigenvector correspoding to the first eigenvalue\n",
    "evals = np.array([i.real for i in eigenvalues if abs(i.imag)< .001])\n",
    "norm_del_rho = max([abs(i) for i in evals])     # picking out the largest magnitude evalue\n",
    "\n",
    "# evals   Working till here"
   ]
  },
  {
   "cell_type": "code",
   "execution_count": 17,
   "metadata": {},
   "outputs": [],
   "source": [
    "#Creating function for the deltarho error\n",
    "\n",
    "def experiment_rho(N, coeff, priors):\n",
    "    initial_states = Creating_states(Abstract=False, coeff = coeff)     # Creating the two states with these coefficients\n",
    "    psi0 = initial_states[0]\n",
    "    psi1 = initial_states[1]    # created the states to be discriminated\n",
    "\n",
    "    psi0sq = []\n",
    "    psi1sq = []\n",
    "    [[psi0sq.append(i*j) for i in psi0] for j in psi0]\n",
    "    [[psi1sq.append(i*j) for i in psi1] for j in psi1]   \n",
    "    psi0psi0 = [psi0sq[0], (psi0sq[1]**2+psi0sq[2]**2)**(.5), psi0sq[3]]    \n",
    "    psi1psi1 = [psi1sq[0], (psi1sq[1]**(2)+psi1sq[2]**(2))**(.5), psi1sq[3]]    # creating square states\n",
    "    \n",
    "    vec_psi0psi0 = np.array(psi0psi0)     \n",
    "    vec_psi1psi1 = np.array(psi1psi1)\n",
    "    rho = priors[0]*np.outer(vec_psi0psi0, vec_psi0psi0)+ priors[1]*np.outer(vec_psi1psi1, vec_psi1psi1)     # theoretical density matrix with priors 1/2 each.\n",
    "\n",
    "    prob_vec =  [np.trace(np.dot(POVM_elts[i],rho)) for i in range(9)] \n",
    "    prob_vec = [i.real for i in prob_vec if abs(i.imag) < .01]          # cleaned up theoretical prob vector\n",
    "\n",
    "    POVM_dir_symbols = ['d1','d2','d3','d4','d5','d6','d7','d8','d9']      # symbols to indicate collapsed direction\n",
    "    #prob distribution is simply the corresponding elements of the prob_vec\n",
    "    collapse_dir_vec = rand.choices(POVM_dir_symbols, weights=prob_vec, k = N)   # choosing collapse directions with weights for N trials\n",
    "\n",
    "    nj_vec = [collapse_dir_vec.count(f'd{i+1}') for i in range(9)]\n",
    "    pj_num_vec = [i/N for i in nj_vec]                                  # numerical prob vector     \n",
    "    \n",
    "    r_vec = np.dot(M_inv,pj_num_vec)\n",
    "    \n",
    "    # constructing the rho numrical using the r_vector etc.\n",
    "    rho_num_list = [r_vec[i]*POVM_elts[i] for i in range(len(POVM_elts))]   # list of matrices, see equation 7 in Hillery notes pair_disc.pdf\n",
    "    rho_num = np.zeros_like(rho_num_list[0])\n",
    "    for matrix in rho_num_list:\n",
    "        rho_num = np.add(rho_num, matrix)       # created the numerical rho\n",
    "    \n",
    "    del_rho = rho_num-rho \n",
    "    \n",
    "    eigenvalues, eigenvectors = np.linalg.eig(del_rho)  # each COLUMN is the corresponding eigenvector and not the row. eigenvectors[:,0]\n",
    "    # eigenvectors[:,0]   # eigenvector correspoding to the first eigenvalue\n",
    "    evals = np.array([i.real for i in eigenvalues if abs(i.imag)< .001])\n",
    "    norm_del_rho = max([abs(i) for i in evals])     # picking out the largest magnitude evalue\n",
    "    error = norm_del_rho\n",
    "\n",
    "    return error\n",
    "\n"
   ]
  },
  {
   "cell_type": "code",
   "execution_count": 18,
   "metadata": {},
   "outputs": [
    {
     "name": "stdout",
     "output_type": "stream",
     "text": [
      "0.00983565779728415\n"
     ]
    },
    {
     "data": {
      "image/png": "[encoded data removed]",
      "text/plain": [
       "<Figure size 640x480 with 1 Axes>"
      ]
     },
     "metadata": {},
     "output_type": "display_data"
    },
    {
     "name": "stdout",
     "output_type": "stream",
     "text": [
      "Error Converged to:  0.00822937541357611\n"
     ]
    }
   ],
   "source": [
    "\n",
    "coeff = [0,1,1/(2**.5),1/(2**.5)] #1/(2**.5)\n",
    "priors = [.5,.5]\n",
    "trials = [1000*(i+1) for i in range(100)]\n",
    "\n",
    "sqrtN  = [2.6/(i**.5) for i in trials]     # ideal square root shape with a constant multiplied for scaling\n",
    "errors = [experiment_rho(i,coeff,priors) for i in trials]\n",
    "print(errors[-1])\n",
    "\n",
    "plt.plot(trials, errors, label=r'$\\Delta \\rho $')\n",
    "plt.plot(trials ,sqrtN, \"--\", label=r'$\\frac{1}{\\sqrt{N}}$')\n",
    "plt.xlabel(' N (trials)')\n",
    "plt.ylabel(r'$\\Delta \\rho $')\n",
    "plt.title(r'$|\\psi_0\\rangle ={}|0\\rangle+{}|1\\rangle $, $|\\psi_1\\rangle ={}|0\\rangle+{}|1\\rangle $, $p_0={},\\,p_1={}$'.format(round(coeff[0],1), round(coeff[1],1), round(coeff[2],1), round(coeff[3],1), priors[0], priors[1]))\n",
    "plt.legend()\n",
    "\n",
    "plt.show()\n",
    "\n",
    "print(f'Error Converged to: ' , experiment_rho( 1000*100 ,coeff,priors))"
   ]
  },
  {
   "cell_type": "code",
   "execution_count": 19,
   "metadata": {},
   "outputs": [
    {
     "name": "stdout",
     "output_type": "stream",
     "text": [
      "[0.75719362+1.01863637e-18j 0.2394563 -4.18129651e-18j\n",
      " 0.00335008+1.26894051e-19j] [[ 0.86675486+0.00000000e+00j -0.49726173+3.75330007e-02j\n",
      "   0.0047432 -5.96282496e-03j]\n",
      " [ 0.40590713+3.44387439e-02j  0.70199408+0.00000000e+00j\n",
      "  -0.58415925-3.95622814e-03j]\n",
      " [ 0.28726132+1.64411613e-02j  0.50845488+1.20866243e-05j\n",
      "   0.81159366+0.00000000e+00j]]\n",
      "[0.28726132+1.64411613e-02j 0.50845488+1.20866243e-05j\n",
      " 0.81159366+0.00000000e+00j]\n",
      "(0.287261319866298+0.01644116128349692j) (0.5084548756949808+1.208662429763423e-05j) (0.8115936554460226+0j)\n",
      "0.15411876417932563 0.9915060413864824\n"
     ]
    }
   ],
   "source": [
    "# computing the error (fidelity) on the states directly \n",
    "\n",
    "eigenvalues, eigenvectors = np.linalg.eig(rho_num) \n",
    "evals = np.array([i.real for i in eigenvalues if abs(i.imag)< .001])\n",
    "print(eigenvalues,eigenvectors)\n",
    "\n",
    "\n",
    "# Find the index of the smallest eigenvalue\n",
    "index = np.argmin(evals)\n",
    "\n",
    "# Select the corresponding eigenvector\n",
    "#eigenvector = eigenvectors[:, index]\n",
    "eigenvector = eigenvectors[index]\n",
    "print(eigenvector)\n",
    "\n",
    "# coeffs of csi \n",
    "c00=eigenvector[0]\n",
    "c01=eigenvector[1]\n",
    "c11=eigenvector[2]\n",
    "\n",
    "print(c00,c01,c11)\n",
    "\n",
    "# def eq 5 in Hillery notes\n",
    "#def quadratic_equation(x, a, b, c):\n",
    "    #return a * x**2 + b * x + c\n",
    "\n",
    "# solve eq 5 in Hillery notes\n",
    "def solve_quadratic(a, b, c):\n",
    "    d = (b**2) - (4*a*c)\n",
    "    sol1 = (-b-cm.sqrt(d))/(2*a)\n",
    "    sol2 = (-b+cm.sqrt(d))/(2*a)\n",
    "    return sol1, sol2\n",
    "f0,f1=solve_quadratic(c00, 2*c01, c11)\n",
    "\n",
    "# find coeff a0,1 and b0,1 for the states\n",
    "a0 = abs(f0)/(m.sqrt(1+ (abs(f0))**2))\n",
    "a1 = 1/(m.sqrt(1+ (abs(f0))**2))\n",
    "b0 = abs(f1)/(m.sqrt(1+ (abs(f1))**2))\n",
    "b1 = 1/(m.sqrt(1+ (abs(f1))**2))\n",
    "\n",
    "# numerical states\n",
    "psi0_num = [a0,a1]\n",
    "psi1_num = [b0,b1]\n",
    "\n",
    "# theoretical states\n",
    "psi0 = [coeff[0],coeff[1]]\n",
    "psi1 = [coeff[2],coeff[3]]\n",
    "\n",
    "# fidelity\n",
    "fid0 = abs(np.dot(psi0_num,psi0))**2\n",
    "fid1 = abs(np.dot(psi1_num,psi1))**2\n",
    "print(fid0,fid1)\n"
   ]
  },
  {
   "cell_type": "code",
   "execution_count": 30,
   "metadata": {},
   "outputs": [],
   "source": [
    "#Creating function for the deltarho error\n",
    "\n",
    "def solve_quadratic(a, b, c):\n",
    "    d = (b**2) - (4*a*c)\n",
    "    sol1 = (-b-cm.sqrt(d))/(2*a)\n",
    "    sol2 = (-b+cm.sqrt(d))/(2*a)\n",
    "    return sol1, sol2\n",
    "\n",
    "def experiment_fid(N, coeff, priors):\n",
    "    initial_states = Creating_states(Abstract=False, coeff = coeff)     # Creating the two states with these coefficients\n",
    "    psi0 = initial_states[0]\n",
    "    psi1 = initial_states[1]    # created the states to be discriminated\n",
    "\n",
    "    psi0sq = []\n",
    "    psi1sq = []\n",
    "    [[psi0sq.append(i*j) for i in psi0] for j in psi0]\n",
    "    [[psi1sq.append(i*j) for i in psi1] for j in psi1]   \n",
    "    psi0psi0 = [psi0sq[0], (psi0sq[1]**2+psi0sq[2]**2)**(.5), psi0sq[3]]    \n",
    "    psi1psi1 = [psi1sq[0], (psi1sq[1]**(2)+psi1sq[2]**(2))**(.5), psi1sq[3]]    # creating square states\n",
    "    \n",
    "    vec_psi0psi0 = np.array(psi0psi0)     \n",
    "    vec_psi1psi1 = np.array(psi1psi1)\n",
    "    rho = priors[0]*np.outer(vec_psi0psi0, vec_psi0psi0)+ priors[1]*np.outer(vec_psi1psi1, vec_psi1psi1)     # theoretical density matrix with priors 1/2 each.\n",
    "\n",
    "    prob_vec =  [np.trace(np.dot(POVM_elts[i],rho)) for i in range(9)] \n",
    "    prob_vec = [i.real for i in prob_vec if abs(i.imag) < .01]          # cleaned up theoretical prob vector\n",
    "\n",
    "    POVM_dir_symbols = ['d1','d2','d3','d4','d5','d6','d7','d8','d9']      # symbols to indicate collapsed direction\n",
    "    #prob distribution is simply the corresponding elements of the prob_vec\n",
    "    collapse_dir_vec = rand.choices(POVM_dir_symbols, weights=prob_vec, k = N)   # choosing collapse directions with weights for N trials\n",
    "\n",
    "    nj_vec = [collapse_dir_vec.count(f'd{i+1}') for i in range(9)]\n",
    "    pj_num_vec = [i/N for i in nj_vec]                                  # numerical prob vector     \n",
    "    \n",
    "    r_vec = np.dot(M_inv,pj_num_vec)\n",
    "    \n",
    "    # constructing the rho numrical using the r_vector etc.\n",
    "    rho_num_list = [r_vec[i]*POVM_elts[i] for i in range(len(POVM_elts))]   # list of matrices, see equation 7 in Hillery notes pair_disc.pdf\n",
    "    rho_num = np.zeros_like(rho_num_list[0])\n",
    "    for matrix in rho_num_list:\n",
    "        rho_num = np.add(rho_num, matrix)       # created the numerical rho\n",
    "     \n",
    "    eigenvalues, eigenvectors = np.linalg.eig(rho_num) \n",
    "    evals = np.array([i.real for i in eigenvalues if abs(i.imag)< .001])\n",
    "    index = np.argmin(evals)\n",
    "    eigenvector = eigenvectors[:,index]\n",
    "    c00=eigenvector[0]\n",
    "    c01=eigenvector[1]\n",
    "    c11=eigenvector[2]\n",
    "    f0,f1=solve_quadratic(c00, 2*c01, c11)\n",
    "    a0 = abs(f0)/(m.sqrt(1+ (abs(f0))**2))\n",
    "    a1 = 1/(m.sqrt(1+ (abs(f0))**2))\n",
    "    b0 = abs(f1)/(m.sqrt(1+ (abs(f1))**2))\n",
    "    b1 = 1/(m.sqrt(1+ (abs(f1))**2))\n",
    "    psi0_num = [a0,a1]\n",
    "    psi1_num = [b0,b1]\n",
    "    psi0 = [coeff[0],coeff[1]]\n",
    "    psi1 = [coeff[2],coeff[3]]\n",
    "    fid0 = abs(np.vdot(psi0_num,psi0))**2\n",
    "    fid1 = abs(np.vdot(psi1_num,psi1))**2\n",
    "    fid = [fid0,fid1]\n",
    "\n",
    "    return [psi0_num,psi1_num,fid]"
   ]
  },
  {
   "cell_type": "code",
   "execution_count": 31,
   "metadata": {},
   "outputs": [
    {
     "data": {
      "image/png": "[encoded data removed]",
      "text/plain": [
       "<Figure size 1000x400 with 2 Axes>"
      ]
     },
     "metadata": {},
     "output_type": "display_data"
    },
    {
     "name": "stdout",
     "output_type": "stream",
     "text": [
      "[0.00577380117794867, 0.000533280459679739, 0.0003422261289210711, 0.004179880366360849, 0.00014984699998540568, 0.001102621816377637, 0.0007919921531765388, 7.664282791599272e-05, 0.00040359259125061345, 0.00019607384781293005, 1.4755658366240656e-05, 0.0001247075481609616, 0.00010985284644186346, 0.00012502250888916109, 0.00023171382976661694, 0.0002985614972696963, 0.0001862762879115223, 6.452465888101813e-05, 0.0005308021840778026, 0.00017605419938706353, 5.3829409177780284e-05, 0.00029382922375686455, 0.00033855515026361675, 7.623361023876283e-05, 1.701854096524029e-06, 3.217599875515334e-05, 5.187186472974558e-05, 6.349888892972067e-05, 2.1145601839438764e-05, 0.0001593466628789784, 0.0001631242534753936, 0.0001690099591711115, 7.766565749311698e-06, 0.0001639658823137288, 3.829172295464252e-06, 2.530242448445888e-05, 1.2443537559114277e-05, 3.091312566538975e-05, 0.00010640987829455285, 0.00022895926475342856, 3.726524110808385e-06, 0.00014230869680342164, 0.0001972445115242506, 4.4236228825536686e-05, 4.2448072164772406e-05, 5.1659467156800126e-06, 3.217621854475412e-06, 4.814707064998563e-06, 3.4139493187592334e-05, 2.9035604214391237e-05, 2.6633349935578e-05, 6.847301000771274e-05, 7.495939306164097e-06, 4.00188642997206e-05, 2.32212379605864e-05, 2.2611854348491496e-05, 0.0001768450571241619, 7.281743583230772e-05, 2.6362600630948836e-05, 1.4784202470065976e-05, 4.68062549968708e-06, 7.882778914762895e-05, 1.362412281759659e-05, 0.00014318688831932625, 2.1881945583627155e-05, 0.00013107656277208478, 1.4016018110342227e-05, 5.4098079328466955e-05, 1.3824034697889046e-05, 3.1368323788782386e-06, 3.528248444330845e-05, 3.521858396567016e-05, 1.139873114743119e-05, 6.024278163869705e-05, 0.00013372232386833126, 5.1432486604875824e-05, 1.6606757175390993e-05, 1.924851055678193e-06, 2.3547269819948007e-05, 8.789316300151464e-06, 1.2316952138981716e-05, 3.708447401373605e-05, 1.126702611541886e-05, 1.5519180950600659e-06, 1.9827346148625654e-05, 4.715994639244716e-07, 4.454971070125762e-06, 4.6585004430575964e-05, 5.481168315724665e-05, 5.2396500139543e-05, 1.6668259496816058e-05, 3.092470985191715e-05, 3.5577183293288294e-06, 1.650867837640858e-05, 5.492019940717806e-06, 0.0001124829010198514, 1.2395390636846996e-06, 1.6424512097903376e-05, 6.408404153705446e-06, 2.0395264309830792e-07]\n",
      "[8.136187049750317e-07, 7.76909200645142e-05, 0.0002847657411837854, 0.00015386559922032813, 0.00016541999004874647, 0.0003233474958217708, 6.705872342384013e-06, 0.0001309534929486994, 5.478792758089491e-05, 7.052282482544792e-06, 0.00010202972726903806, 8.500588919730822e-06, 0.00011294530188572427, 1.0014417958970896e-05, 2.2719495667431938e-05, 7.406412695480541e-06, 7.91866017358536e-06, 6.024447179275437e-05, 1.0412418876950194e-06, 1.7713643939652643e-06, 4.555003275068045e-06, 2.9290107552023784e-05, 6.482422505490254e-05, 2.760359739418501e-06, 1.954431319263594e-05, 1.2095309343016237e-05, 6.194953080698099e-06, 6.414498662687942e-06, 1.5051080374489193e-05, 3.3968950002138144e-05, 8.509588233097659e-05, 1.292997508820514e-05, 5.043295505743205e-06, 2.950296211463441e-06, 1.0338991416156321e-06, 1.7098891400369954e-06, 1.2970563593083418e-05, 9.922757380409805e-06, 5.648495537502681e-05, 3.399188931322113e-05, 7.4716410246343475e-06, 1.4324067981856734e-05, 1.272981203569641e-05, 2.5517212077154062e-05, 5.926025500954827e-06, 1.5391937159694962e-05, 1.1682473667272324e-07, 5.5814197477975325e-06, 7.829665269903055e-07, 1.197237632393676e-06, 3.865150010393009e-07, 6.964133565591645e-06, 1.3988321141154594e-05, 1.2461061009014414e-06, 1.1197029565198845e-05, 3.55592922492001e-06, 2.9507105284269114e-06, 2.5913908662369978e-05, 5.101557064771634e-06, 2.9760190919168576e-06, 1.0399697207015515e-05, 5.975026981305148e-06, 1.5608153333237942e-06, 7.413766832429224e-06, 1.6811334110036406e-05, 1.5195442789279963e-05, 2.515098256141701e-07, 1.1842460184626027e-06, 2.910782520016171e-07, 2.2154606288163217e-05, 1.2779519489968533e-05, 4.0622481649291575e-05, 1.1659414355288892e-05, 2.5361257465054264e-06, 2.7791268008851615e-05, 1.4074907417651959e-05, 1.8535053727758988e-05, 3.5167730732121237e-07, 1.0358244456616333e-05, 1.6692046538422585e-06, 1.5703802526576147e-05, 4.4976680002074974e-07, 3.877603786509984e-06, 1.603476864850234e-06, 1.1812516548243818e-06, 9.099567499575309e-06, 1.8845680832143748e-06, 1.1201849029424247e-05, 4.4104704868160055e-06, 4.825109331620426e-06, 8.894028448847658e-06, 1.6430655751592525e-06, 4.9535326764529175e-06, 1.400879427291865e-06, 2.6099678223541876e-06, 1.0821547055850816e-05, 6.117593651285676e-07, 2.4696508140278715e-06, 1.451449481494178e-05, 3.063706010116435e-06]\n"
     ]
    }
   ],
   "source": [
    "coeff = [0,1,1,0] #1/(2**.5)\n",
    "priors = [.75,.15]\n",
    "trials = [1000*(i+1) for i in range(100)]\n",
    "\n",
    "pfid  = [1 for i in trials]     # perfect fidelity of 1\n",
    "error0 = [experiment_fid(i,coeff,priors)[2][0] for i in trials]\n",
    "error1 = [experiment_fid(i,coeff,priors)[2][1] for i in trials]\n",
    "\n",
    "fig, (ax1, ax2) = plt.subplots(1,2, figsize=(10,4), sharey=True)\n",
    "\n",
    "ax1.plot(trials, error0, label=r'$F_0=|\\langle \\psi_0|\\psi_0^{\\,n}\\rangle|^2$')\n",
    "ax1.plot(trials , pfid, \"--\", label=r'$F=1$')\n",
    "ax1.set_xlabel(' N (trials)')\n",
    "ax1.set_ylabel(r'Fidelity $F$')\n",
    "ax1.set_title(r'$|\\psi_0\\rangle ={}|0\\rangle+{}|1\\rangle $, $p_0={}$'.format(round(coeff[0],1), round(coeff[1],1), priors[0]))\n",
    "ax1.legend(loc='best')\n",
    "\n",
    "ax2.plot(trials, error1, label=r'$F_1=|\\langle \\psi_1|\\psi_1^{\\,n}\\rangle|^2$')\n",
    "ax2.plot(trials , pfid, \"--\", label=r'$F=1$')\n",
    "ax2.set_xlabel(' N (trials)')\n",
    "ax2.set_ylabel(r'Fidelity $F$')\n",
    "ax2.set_title(r'$|\\psi_1\\rangle ={}|0\\rangle+{}|1\\rangle $, $p_0={}$'.format(round(coeff[2],1), round(coeff[3],1), priors[1]))\n",
    "ax2.legend(loc='best')\n",
    "\n",
    "plt.show()\n",
    "print(error0)\n",
    "print(error1)"
   ]
  },
  {
   "cell_type": "code",
   "execution_count": 22,
   "metadata": {},
   "outputs": [],
   "source": [
    "#plot fidelity F0,1 as a function of priors p0,1 and of coefficients a0,1,b0,1\n",
    "\n"
   ]
  }
 ],
 "metadata": {
  "kernelspec": {
   "display_name": "Python 3",
   "language": "python",
   "name": "python3"
  },
  "language_info": {
   "codemirror_mode": {
    "name": "ipython",
    "version": 3
   },
   "file_extension": ".py",
   "mimetype": "text/x-python",
   "name": "python",
   "nbconvert_exporter": "python",
   "pygments_lexer": "ipython3",
   "version": "3.11.4"
  },
  "orig_nbformat": 4
 },
 "nbformat": 4,
 "nbformat_minor": 2
}
